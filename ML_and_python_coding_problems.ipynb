{
  "nbformat": 4,
  "nbformat_minor": 0,
  "metadata": {
    "colab": {
      "provenance": [],
      "authorship_tag": "ABX9TyPJrbnwDNeGgcYpNkJfjZKv",
      "include_colab_link": true
    },
    "kernelspec": {
      "name": "python3",
      "display_name": "Python 3"
    },
    "language_info": {
      "name": "python"
    }
  },
  "cells": [
    {
      "cell_type": "markdown",
      "metadata": {
        "id": "view-in-github",
        "colab_type": "text"
      },
      "source": [
        "<a href=\"https://colab.research.google.com/github/himanshuchakraborty/Precision-Recall/blob/main/ML_and_python_coding_problems.ipynb\" target=\"_parent\"><img src=\"https://colab.research.google.com/assets/colab-badge.svg\" alt=\"Open In Colab\"/></a>"
      ]
    },
    {
      "cell_type": "markdown",
      "source": [
        "Precision and Recall in Classification\n"
      ],
      "metadata": {
        "id": "t5EcT9HhMEKi"
      }
    },
    {
      "cell_type": "markdown",
      "source": [
        "Precision: Of my bulleye predictions, how many are right?\n",
        "Recall: of all actual bulleyes, how many did I catch?\n",
        "tradeoff: cant maximize both, like a sensitivity dial\n",
        "choice depends on whether false positives or false negatives are more costly\n",
        "\n",
        "Precision: TP/TP+FP  (Quality of positive predictions)\n",
        "Recall: TP/TP+FN      (Completeness of positive predictions)\n",
        "\n",
        "\n",
        "High Precision (Less Sensitive or fewer false alarms)\n",
        "(Conservative) (all predictions are correct, misses actual bulleyes - less false alarms or positive)\n",
        "Precision - 100%\n",
        "Recall - 50%\n",
        "only predicts when very confident\n",
        "\n",
        "High Recall (More Sensitive or fewer missed threats)\n",
        "(Liberal) (catches more actual bulleyes, some false alarms or positive - less false negatives)\n",
        "Precision - 75%\n",
        "Recall - 100%\n",
        "predicts more liberally\n",
        "\n",
        "Balanced (Moderate confidence threshold)\n",
        "Precision 80%\n",
        "Recall 67%\n",
        "\n",
        "\n",
        "Real World Applications:\n",
        "High Precision                            High Recall\n",
        "Email Spam Filtering                      Cancer Screening\n",
        "Medical Diagnosis                         Security Threats\n",
        "Financial Fraud                           Quality Control\n",
        "\n",
        "\n",
        "Prioritize Precision\n",
        "when false alarms or false positives are costly as it leads to unnecessary actions or disruptions\n",
        "\n",
        "examples\n",
        "blocking malicious network traffic or user accounts\n",
        "false alarms may lead to user frustation\n",
        "\n",
        "and loss of productivity, operational overload for security teams to investigate and unblock legitimate activity\n",
        "\n",
        "even if it means missing some less severe threats (lower recall)\n",
        "\n",
        "Prioritize Recall\n",
        "cost of false negative is very high means missing an actual threat allowing it to bypass defenses\n",
        "\n",
        "examples\n",
        "system designed to alert security analysts to potential zero-day exploits or highly sophisticated novel malware attacks\n",
        "\n",
        "low recall means fail to detect many actual attacks (FN)\n",
        "\n",
        "significant security breaches, data loss or system compromise\n",
        "\n",
        "reputational damage and regulatory fines\n",
        "\n",
        "high recovery costs\n",
        "system identifying rare but highly impactful insider threats where missing even one could be catastrophic\n",
        "\n"
      ],
      "metadata": {
        "id": "KCq2VqOXDLs5"
      }
    },
    {
      "cell_type": "markdown",
      "source": [
        "Coding problems:\n",
        "\n",
        "1. Valid parantheses\n",
        "\n",
        "Problem Statement: Given a string s containing just the characters '(', ')', '{', '}', '[', ']', determine if the input string is valid. An input string is valid if:\n",
        "\n",
        "Open brackets must be closed by the same type of brackets.\n",
        "Open brackets must be closed in the correct order.\n",
        "Every close bracket has a corresponding open bracket of the same type.\n",
        "\n",
        "Clarifying Questions/Edge Cases:\n",
        "\n",
        "What if the string is empty? An empty string should be considered valid.\n",
        "What if the string contains other characters? The problem states it only contains the six specified characters.\n",
        "What if there are only opening or only closing brackets? E.g., '(((' or ')))'. These should be invalid."
      ],
      "metadata": {
        "id": "aovOx6ruMKnq"
      }
    },
    {
      "cell_type": "code",
      "metadata": {
        "colab": {
          "base_uri": "https://localhost:8080/"
        },
        "id": "28b9d8f9",
        "outputId": "7b8a6a3c-81be-453c-b0cb-706da2e5ef11"
      },
      "source": [
        "def isValid(s):\n",
        "  stack = []\n",
        "  mapping = {\")\":\"(\", \"]\":\"[\", \"}\":\"{\"}\n",
        "\n",
        "  for char in s: #closing bracket\n",
        "  #if stack empty no matching open bracket\n",
        "  #or if the top of the stack doesn't match the open bracket\n",
        "    if char in mapping:\n",
        "      print(\"character is the closing bracket:\",char,\"\\n\", stack)\n",
        "      if not stack or stack.pop()!=mapping[char]:\n",
        "        print(\"iteration for the character:\", char, \"\\n\", stack)\n",
        "        return False\n",
        "    else:#opening bracket\n",
        "      stack.append(char)\n",
        "      print(\"character is the opening bracket, iteration for the character:\",char,\"\\n\", stack)\n",
        "        #after iterating through all characters, if the stack is empty,\n",
        "        #all brackets were matched\n",
        "  return not stack\n",
        "\n",
        "\n",
        "# print(isValid(\"()\"))\n",
        "print(isValid(\"()]\"))\n",
        "# print(isValid(\"()[]\"))\n",
        "# print(isValid(\"(){}[\"))\n"
      ],
      "execution_count": 18,
      "outputs": [
        {
          "output_type": "stream",
          "name": "stdout",
          "text": [
            "character is the opening bracket, iteration for the character: ( \n",
            " ['(']\n",
            "character is the closing bracket: ) \n",
            " ['(']\n",
            "character is the closing bracket: ] \n",
            " []\n",
            "iteration for the character: ] \n",
            " []\n",
            "False\n"
          ]
        }
      ]
    },
    {
      "cell_type": "markdown",
      "source": [
        "Coding Problems:\n",
        "\n",
        "2. Problem Statement: Given a string `s`, find the first non-repeating character in it and return its index. If it does not exist, return -1.\n",
        "\n",
        "Clarifying Questions/Edge Cases:\n",
        "\n",
        "What if the string is empty? Return -1.\n",
        "What if the string has only one character? Return 0.\n",
        "Are characters case-sensitive? Assume case-sensitive for now, but I would clarify if not specified."
      ],
      "metadata": {
        "id": "3_dEiDT6MaVS"
      }
    },
    {
      "cell_type": "code",
      "source": [
        "def countChar(s):\n",
        "  char_counts = {}\n",
        "\n",
        "  if not s:  # Check for empty string at the beginning return -1\n",
        "      return -1\n",
        "\n",
        "  for char in s: # char in the string left to right\n",
        "  # get the count of each character\n",
        "    if char in char_counts:\n",
        "      char_counts[char] += 1\n",
        "    else:\n",
        "      char_counts[char] = 1\n",
        "\n",
        "  if len(char_counts) == 1: # only one character in the string return 0\n",
        "    return 0\n",
        "  for i in range(len(s)):\n",
        "    if char_counts[s[i]] == 1:\n",
        "      print(char_counts, char_counts[char]) # return the index of first character with non-repeating values\n",
        "\n",
        "      return i# return the index of first character with non-repeating values\n",
        "\n",
        "\n",
        "# print(countChar(\"ooffhelli\"))\n",
        "# print(countChar(\"leetcode\"))\n",
        "# print(countChar(\"loveleetcode\"))\n",
        "# print(countChar(\"f\"))\n",
        "print(countChar(\"\"))"
      ],
      "metadata": {
        "colab": {
          "base_uri": "https://localhost:8080/"
        },
        "id": "42Ux5tL3A-HD",
        "outputId": "991eca40-d1cc-48a8-e200-e260cb236053"
      },
      "execution_count": 49,
      "outputs": [
        {
          "output_type": "stream",
          "name": "stdout",
          "text": [
            "-1\n"
          ]
        }
      ]
    }
  ]
}